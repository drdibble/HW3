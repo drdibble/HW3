{
 "cells": [
  {
   "cell_type": "code",
   "execution_count": null,
   "id": "excited-buffer",
   "metadata": {},
   "outputs": [],
   "source": [
    "# Package imports\n",
    "import pandas as pd\n",
    "import numpy as np\n",
    "import matplotlib.pyplot as plt\n",
    "import os\n",
    "import glob\n",
    "from sklearn import preprocessing\n",
    "from sklearn.model_selection import train_test_split"
   ]
  },
  {
   "cell_type": "code",
   "execution_count": null,
   "id": "wound-burlington",
   "metadata": {},
   "outputs": [],
   "source": [
    "def read_data():\n",
    "    df = pd.DataFrame()\n",
    "    dirs = os.listdir('data')\n",
    "    for folder in dirs:\n",
    "        if folder != '.DS_Store':\n",
    "            filenames = glob.glob(os.path.join('data', folder, '*/*.txt'), recursive = True)\n",
    "            for filename in filenames:\n",
    "                if ('MANIFEST.txt' not in filename) and ('annotations.txt' not in filename):\n",
    "                    temp_df = pd.read_csv(filename, '\\t')\n",
    "                    row_dict = {'cancer': folder}\n",
    "                    for index, row in temp_df.iterrows():\n",
    "                        row_dict[row['miRNA_ID']] = row['reads_per_million_miRNA_mapped']\n",
    "\n",
    "                    df = df.append(row_dict, ignore_index = True)\n",
    "    \n",
    "    le = preprocessing.LabelEncoder()\n",
    "    df['cancer_code'] = le.fit_transform(df['cancer'])\n",
    "    \n",
    "    df.to_csv('data_cleaned.csv', index=False)\n"
   ]
  },
  {
   "cell_type": "code",
   "execution_count": null,
   "id": "objective-starter",
   "metadata": {},
   "outputs": [],
   "source": [
    "def load_data():\n",
    "    return pd.read_csv('data_cleaned.csv')"
   ]
  },
  {
   "cell_type": "code",
   "execution_count": 7,
   "id": "settled-space",
   "metadata": {},
   "outputs": [],
   "source": [
    "def random_forest():\n",
    "    pass"
   ]
  },
  {
   "cell_type": "code",
   "execution_count": null,
   "id": "normal-coach",
   "metadata": {},
   "outputs": [],
   "source": [
    "def svm():\n",
    "    pass"
   ]
  },
  {
   "cell_type": "code",
   "execution_count": 8,
   "id": "suspected-hartford",
   "metadata": {},
   "outputs": [],
   "source": [
    "def main():\n",
    "    df = load_data()\n",
    "    \n",
    "    #split into train, test, and evaluation sets\n",
    "    X = df.drop(columns=['cancer', 'cancer_code'])\n",
    "    y = df['cancer_code']\n",
    "    X_train, X_eval, y_train, y_eval = train_test_split(X, y, test_size=0.2, random_state=2, stratify=y)\n",
    "    X_train, X_test, y_train, y_test = train_test_split(X_train, y_train, test_size=0.25, random_state=2, stratify=y_train)\n",
    "    \n",
    "    #scale data\n",
    "    min_max_scalar = preprocessing.MinMaxScaler()\n",
    "    X_train_scaled = min_max_scalar.fit_transform(X_train)\n",
    "    min_max_scalar = preprocessing.MinMaxScaler()\n",
    "    X_test_scaled = min_max_scalar.fit_transform(X_test)\n",
    "    min_max_scalar = preprocessing.MinMaxScaler()\n",
    "    X_eval_scaled = min_max_scalar.fit_transform(X_eval)"
   ]
  },
  {
   "cell_type": "code",
   "execution_count": null,
   "id": "selected-native",
   "metadata": {},
   "outputs": [],
   "source": [
    "main()"
   ]
  }
 ],
 "metadata": {
  "kernelspec": {
   "display_name": "Python 3",
   "language": "python",
   "name": "python3"
  },
  "language_info": {
   "codemirror_mode": {
    "name": "ipython",
    "version": 3
   },
   "file_extension": ".py",
   "mimetype": "text/x-python",
   "name": "python",
   "nbconvert_exporter": "python",
   "pygments_lexer": "ipython3",
   "version": "3.7.9"
  }
 },
 "nbformat": 4,
 "nbformat_minor": 5
}
