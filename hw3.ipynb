{
 "cells": [
  {
   "cell_type": "code",
   "execution_count": 1,
   "id": "departmental-toilet",
   "metadata": {},
   "outputs": [],
   "source": [
    "# Package imports\n",
    "import pandas as pd\n",
    "import numpy as np\n",
    "import matplotlib.pyplot as plt\n",
    "import os\n",
    "import glob\n",
    "from sklearn import preprocessing\n",
    "from sklearn.svm import SVC\n",
    "from sklearn.ensemble import RandomForestClassifier\n",
    "from sklearn.model_selection import train_test_split, GridSearchCV\n",
    "from sklearn.metrics import plot_confusion_matrix, f1_score, accuracy_score"
   ]
  },
  {
   "cell_type": "code",
   "execution_count": 2,
   "id": "naughty-values",
   "metadata": {},
   "outputs": [],
   "source": [
    "def read_data():\n",
    "    df = pd.DataFrame()\n",
    "    dirs = os.listdir('data')\n",
    "    for folder in dirs:\n",
    "        if folder != '.DS_Store':\n",
    "            filenames = glob.glob(os.path.join('data', folder, '*/*.txt'), recursive = True)\n",
    "            for filename in filenames:\n",
    "                if ('MANIFEST.txt' not in filename) and ('annotations.txt' not in filename):\n",
    "                    temp_df = pd.read_csv(filename, '\\t')\n",
    "                    row_dict = {'cancer': folder}\n",
    "                    for index, row in temp_df.iterrows():\n",
    "                        row_dict[row['miRNA_ID']] = row['reads_per_million_miRNA_mapped']\n",
    "\n",
    "                    df = df.append(row_dict, ignore_index = True)\n",
    "    \n",
    "    le = preprocessing.LabelEncoder()\n",
    "    df['cancer_code'] = le.fit_transform(df['cancer'])\n",
    "    \n",
    "    df.to_csv('data_cleaned.csv', index=False)\n"
   ]
  },
  {
   "cell_type": "code",
   "execution_count": 3,
   "id": "primary-joshua",
   "metadata": {},
   "outputs": [],
   "source": [
    "def load_data():\n",
    "    return pd.read_csv('data_cleaned.csv')"
   ]
  },
  {
   "cell_type": "code",
   "execution_count": 4,
   "id": "combined-marathon",
   "metadata": {},
   "outputs": [],
   "source": [
    "def random_forest(X_train, y_train):\n",
    "    #no depth limit - trees will grow as deep as possible until purity/all features are exhausted\n",
    "    #no min split - default is 2\n",
    "    #bootstrap default is True\n",
    "    #max features does feature bagging\n",
    "    params = {'n_estimators': [100, 200, 300, 400, 500], 'max_features': ('sqrt', 'log2')} \n",
    "    print('Grid Search on Random Forest...')\n",
    "    rf = RandomForestClassifier()\n",
    "    clf = GridSearchCV(rf, params)\n",
    "    clf.fit(X_train, y_train)\n",
    "    \n",
    "    results_df = pd.DataFrame(clf.cv_results_)\n",
    "    results_df.to_csv('rf_cv_results.csv')\n",
    "    \n",
    "    results_df.head()\n",
    "    \n",
    "    print('Best Random Forest Params (score %f):' % clf.best_score_)\n",
    "    print(clf.best_params_)\n",
    "    print()\n",
    "    \n",
    "    return clf.best_estimator_"
   ]
  },
  {
   "cell_type": "code",
   "execution_count": 5,
   "id": "chubby-boxing",
   "metadata": {},
   "outputs": [],
   "source": [
    "'''\n",
    "Performs 5-fold CV over a range of hyperparameters and returns the best-performing SVM model\n",
    "'''\n",
    "def svm(X_train, y_train):\n",
    "    params = {'kernel':('linear', 'poly', 'rbf'), 'C':[10, 0.1, 1], 'degree': [2,3], 'gamma': [0.1, 0.01, 0.001, 0.0001], 'cache_size': [1000]}\n",
    "    print('Grid Search on SVM...')\n",
    "    svc = SVC()\n",
    "    clf = GridSearchCV(svc, params)\n",
    "    clf.fit(X_train, y_train)\n",
    "    \n",
    "    results_df = pd.DataFrame(clf.cv_results_)\n",
    "    results_df.to_csv('svm_cv_results.csv')\n",
    "    \n",
    "    print('Best SVM Params (score %f):' % clf.best_score_)\n",
    "    print(clf.best_params_)\n",
    "    print()\n",
    "    \n",
    "    return clf.best_estimator_"
   ]
  },
  {
   "cell_type": "code",
   "execution_count": 6,
   "id": "little-shepherd",
   "metadata": {},
   "outputs": [],
   "source": [
    "'''\n",
    "Calculates accuracy, f1 score, and a confusion matrix for the given model and (scaled) evaluation data.\n",
    "Params:\n",
    "    model: the model to be evaluated\n",
    "    X_eval: feature-scaled evaluation set\n",
    "    y_eval: evaluation labels\n",
    "    name: string of the model name (used for graph titles)\n",
    "'''\n",
    "def calc_stats(model, X_eval, y_eval, name):\n",
    "    print('Evaluation of %s Model:' % name)\n",
    "    #results\n",
    "    preds = model.predict(X_eval)\n",
    "    f_score = f1_score(y_eval, preds, average='micro')\n",
    "    acc_score = accuracy_score(y_eval, preds)\n",
    "    print('%s: F1 = %f, accuracy = %f' % (name, f_score, acc_score))\n",
    "    \n",
    "    #confusion matrix\n",
    "    plot_confusion_matrix(model, X_eval, y_eval)\n",
    "    plt.title('Confusion Matrix for {} Model'.format(name))\n",
    "    plt.savefig('imgs/{}_confusion.png'.format(name))\n",
    "    plt.show()\n",
    "    \n",
    "    print()"
   ]
  },
  {
   "cell_type": "code",
   "execution_count": 7,
   "id": "expanded-initial",
   "metadata": {},
   "outputs": [
    {
     "data": {
      "text/html": [
       "<div>\n",
       "<style scoped>\n",
       "    .dataframe tbody tr th:only-of-type {\n",
       "        vertical-align: middle;\n",
       "    }\n",
       "\n",
       "    .dataframe tbody tr th {\n",
       "        vertical-align: top;\n",
       "    }\n",
       "\n",
       "    .dataframe thead th {\n",
       "        text-align: right;\n",
       "    }\n",
       "</style>\n",
       "<table border=\"1\" class=\"dataframe\">\n",
       "  <thead>\n",
       "    <tr style=\"text-align: right;\">\n",
       "      <th></th>\n",
       "      <th>cancer</th>\n",
       "      <th>hsa-let-7a-1</th>\n",
       "      <th>hsa-let-7a-2</th>\n",
       "      <th>hsa-let-7a-3</th>\n",
       "      <th>hsa-let-7b</th>\n",
       "      <th>hsa-let-7c</th>\n",
       "      <th>hsa-let-7d</th>\n",
       "      <th>hsa-let-7e</th>\n",
       "      <th>hsa-let-7f-1</th>\n",
       "      <th>hsa-let-7f-2</th>\n",
       "      <th>...</th>\n",
       "      <th>hsa-mir-942</th>\n",
       "      <th>hsa-mir-943</th>\n",
       "      <th>hsa-mir-944</th>\n",
       "      <th>hsa-mir-95</th>\n",
       "      <th>hsa-mir-9500</th>\n",
       "      <th>hsa-mir-96</th>\n",
       "      <th>hsa-mir-98</th>\n",
       "      <th>hsa-mir-99a</th>\n",
       "      <th>hsa-mir-99b</th>\n",
       "      <th>cancer_code</th>\n",
       "    </tr>\n",
       "  </thead>\n",
       "  <tbody>\n",
       "    <tr>\n",
       "      <th>0</th>\n",
       "      <td>Breast Invasive Carcinoma</td>\n",
       "      <td>17225.641202</td>\n",
       "      <td>17168.697999</td>\n",
       "      <td>17165.904559</td>\n",
       "      <td>37132.340301</td>\n",
       "      <td>4217.020216</td>\n",
       "      <td>410.420821</td>\n",
       "      <td>1099.541016</td>\n",
       "      <td>4846.188888</td>\n",
       "      <td>4989.513855</td>\n",
       "      <td>...</td>\n",
       "      <td>1.933920</td>\n",
       "      <td>0.0</td>\n",
       "      <td>3.867840</td>\n",
       "      <td>5.586880</td>\n",
       "      <td>0.0</td>\n",
       "      <td>31.157602</td>\n",
       "      <td>47.703362</td>\n",
       "      <td>1462.043595</td>\n",
       "      <td>37550.067043</td>\n",
       "      <td>0</td>\n",
       "    </tr>\n",
       "    <tr>\n",
       "      <th>1</th>\n",
       "      <td>Breast Invasive Carcinoma</td>\n",
       "      <td>9675.101346</td>\n",
       "      <td>9620.924588</td>\n",
       "      <td>9710.866472</td>\n",
       "      <td>11593.826262</td>\n",
       "      <td>1817.884192</td>\n",
       "      <td>334.477994</td>\n",
       "      <td>1189.031704</td>\n",
       "      <td>4199.545275</td>\n",
       "      <td>4264.938315</td>\n",
       "      <td>...</td>\n",
       "      <td>5.925583</td>\n",
       "      <td>0.0</td>\n",
       "      <td>1.269768</td>\n",
       "      <td>1.058140</td>\n",
       "      <td>0.0</td>\n",
       "      <td>26.136053</td>\n",
       "      <td>44.547686</td>\n",
       "      <td>668.744359</td>\n",
       "      <td>13635.189582</td>\n",
       "      <td>0</td>\n",
       "    </tr>\n",
       "    <tr>\n",
       "      <th>2</th>\n",
       "      <td>Breast Invasive Carcinoma</td>\n",
       "      <td>9947.288063</td>\n",
       "      <td>10160.137808</td>\n",
       "      <td>10204.137755</td>\n",
       "      <td>9738.288314</td>\n",
       "      <td>1366.198361</td>\n",
       "      <td>243.649708</td>\n",
       "      <td>813.999023</td>\n",
       "      <td>735.899117</td>\n",
       "      <td>752.399097</td>\n",
       "      <td>...</td>\n",
       "      <td>0.549999</td>\n",
       "      <td>0.0</td>\n",
       "      <td>0.000000</td>\n",
       "      <td>3.849995</td>\n",
       "      <td>0.0</td>\n",
       "      <td>26.399968</td>\n",
       "      <td>24.199971</td>\n",
       "      <td>228.249726</td>\n",
       "      <td>33884.359339</td>\n",
       "      <td>0</td>\n",
       "    </tr>\n",
       "    <tr>\n",
       "      <th>3</th>\n",
       "      <td>Breast Invasive Carcinoma</td>\n",
       "      <td>18022.771624</td>\n",
       "      <td>18041.827151</td>\n",
       "      <td>18067.323984</td>\n",
       "      <td>17540.076324</td>\n",
       "      <td>3884.643741</td>\n",
       "      <td>230.679238</td>\n",
       "      <td>2396.299685</td>\n",
       "      <td>8376.112098</td>\n",
       "      <td>8537.815694</td>\n",
       "      <td>...</td>\n",
       "      <td>3.891622</td>\n",
       "      <td>0.0</td>\n",
       "      <td>1.476132</td>\n",
       "      <td>2.549683</td>\n",
       "      <td>0.0</td>\n",
       "      <td>26.033608</td>\n",
       "      <td>49.785921</td>\n",
       "      <td>1360.323117</td>\n",
       "      <td>17850.466713</td>\n",
       "      <td>0</td>\n",
       "    </tr>\n",
       "    <tr>\n",
       "      <th>4</th>\n",
       "      <td>Breast Invasive Carcinoma</td>\n",
       "      <td>4686.419964</td>\n",
       "      <td>4688.795641</td>\n",
       "      <td>4698.100379</td>\n",
       "      <td>2814.682994</td>\n",
       "      <td>323.884043</td>\n",
       "      <td>234.697147</td>\n",
       "      <td>1773.938243</td>\n",
       "      <td>4904.982301</td>\n",
       "      <td>5131.364576</td>\n",
       "      <td>...</td>\n",
       "      <td>0.296960</td>\n",
       "      <td>0.0</td>\n",
       "      <td>0.098987</td>\n",
       "      <td>0.296960</td>\n",
       "      <td>0.0</td>\n",
       "      <td>123.535234</td>\n",
       "      <td>43.554089</td>\n",
       "      <td>89.978788</td>\n",
       "      <td>28231.760414</td>\n",
       "      <td>0</td>\n",
       "    </tr>\n",
       "  </tbody>\n",
       "</table>\n",
       "<p>5 rows × 1883 columns</p>\n",
       "</div>"
      ],
      "text/plain": [
       "                      cancer  hsa-let-7a-1  hsa-let-7a-2  hsa-let-7a-3  \\\n",
       "0  Breast Invasive Carcinoma  17225.641202  17168.697999  17165.904559   \n",
       "1  Breast Invasive Carcinoma   9675.101346   9620.924588   9710.866472   \n",
       "2  Breast Invasive Carcinoma   9947.288063  10160.137808  10204.137755   \n",
       "3  Breast Invasive Carcinoma  18022.771624  18041.827151  18067.323984   \n",
       "4  Breast Invasive Carcinoma   4686.419964   4688.795641   4698.100379   \n",
       "\n",
       "     hsa-let-7b   hsa-let-7c  hsa-let-7d   hsa-let-7e  hsa-let-7f-1  \\\n",
       "0  37132.340301  4217.020216  410.420821  1099.541016   4846.188888   \n",
       "1  11593.826262  1817.884192  334.477994  1189.031704   4199.545275   \n",
       "2   9738.288314  1366.198361  243.649708   813.999023    735.899117   \n",
       "3  17540.076324  3884.643741  230.679238  2396.299685   8376.112098   \n",
       "4   2814.682994   323.884043  234.697147  1773.938243   4904.982301   \n",
       "\n",
       "   hsa-let-7f-2  ...  hsa-mir-942  hsa-mir-943  hsa-mir-944  hsa-mir-95  \\\n",
       "0   4989.513855  ...     1.933920          0.0     3.867840    5.586880   \n",
       "1   4264.938315  ...     5.925583          0.0     1.269768    1.058140   \n",
       "2    752.399097  ...     0.549999          0.0     0.000000    3.849995   \n",
       "3   8537.815694  ...     3.891622          0.0     1.476132    2.549683   \n",
       "4   5131.364576  ...     0.296960          0.0     0.098987    0.296960   \n",
       "\n",
       "   hsa-mir-9500  hsa-mir-96  hsa-mir-98  hsa-mir-99a   hsa-mir-99b  \\\n",
       "0           0.0   31.157602   47.703362  1462.043595  37550.067043   \n",
       "1           0.0   26.136053   44.547686   668.744359  13635.189582   \n",
       "2           0.0   26.399968   24.199971   228.249726  33884.359339   \n",
       "3           0.0   26.033608   49.785921  1360.323117  17850.466713   \n",
       "4           0.0  123.535234   43.554089    89.978788  28231.760414   \n",
       "\n",
       "   cancer_code  \n",
       "0            0  \n",
       "1            0  \n",
       "2            0  \n",
       "3            0  \n",
       "4            0  \n",
       "\n",
       "[5 rows x 1883 columns]"
      ]
     },
     "execution_count": 7,
     "metadata": {},
     "output_type": "execute_result"
    }
   ],
   "source": [
    "df = load_data()\n",
    "df.head()"
   ]
  },
  {
   "cell_type": "code",
   "execution_count": 8,
   "id": "expired-checklist",
   "metadata": {},
   "outputs": [
    {
     "data": {
      "text/plain": [
       "2895"
      ]
     },
     "execution_count": 8,
     "metadata": {},
     "output_type": "execute_result"
    }
   ],
   "source": [
    "len(df)"
   ]
  },
  {
   "cell_type": "code",
   "execution_count": 9,
   "id": "meaning-settlement",
   "metadata": {},
   "outputs": [],
   "source": [
    "def main():\n",
    "    df = load_data()\n",
    "    #split into train, test, and evaluation sets\n",
    "    X = df.drop(columns=['cancer', 'cancer_code'])\n",
    "    y = df['cancer_code']\n",
    "    X_train, X_eval, y_train, y_eval = train_test_split(X, y, test_size=0.2, random_state=2, stratify=y)\n",
    "    #X_train, X_test, y_train, y_test = train_test_split(X_train, y_train, test_size=0.25, random_state=2, stratify=y_train)\n",
    "    \n",
    "    #scale data\n",
    "    min_max_scalar = preprocessing.MinMaxScaler()\n",
    "    X_train_scaled = min_max_scalar.fit_transform(X_train)\n",
    "    #min_max_scalar = preprocessing.MinMaxScaler()\n",
    "    #X_test_scaled = min_max_scalar.fit_transform(X_test)\n",
    "    #min_max_scalar = preprocessing.MinMaxScaler()\n",
    "    X_eval_scaled = min_max_scalar.transform(X_eval)\n",
    "    \n",
    "#     svm_model = svm(X_train_scaled, y_train)\n",
    "    \n",
    "#     calc_stats(svm_model, X_eval_scaled, y_eval, 'SVM')\n",
    "    \n",
    "    rf_model = random_forest(X_train_scaled, y_train)\n",
    "    calc_stats(rf_model, X_eval_scaled, y_eval, 'RF')"
   ]
  },
  {
   "cell_type": "code",
   "execution_count": 10,
   "id": "straight-expression",
   "metadata": {},
   "outputs": [
    {
     "name": "stdout",
     "output_type": "stream",
     "text": [
      "Grid Search on Random Forest...\n",
      "Best Random Forest Params (score 0.970638):\n",
      "{'max_features': 'sqrt', 'n_estimators': 400}\n",
      "\n",
      "Evaluation of RF Model:\n",
      "RF: F1 = 0.981002, accuracy = 0.981002\n"
     ]
    },
    {
     "data": {
      "image/png": "[encoded data removed]",
      "text/plain": [
       "<Figure size 432x288 with 2 Axes>"
      ]
     },
     "metadata": {
      "needs_background": "light"
     },
     "output_type": "display_data"
    },
    {
     "name": "stdout",
     "output_type": "stream",
     "text": [
      "\n"
     ]
    }
   ],
   "source": [
    "main()"
   ]
  },
  {
   "cell_type": "code",
   "execution_count": 11,
   "id": "outer-yahoo",
   "metadata": {},
   "outputs": [],
   "source": [
    "def numTrees(file):\n",
    "    df = pd.read_csv(file)\n",
    "    new_df = df[df['param_max_features'] == 'sqrt']\n",
    "    plt.xlabel('Number of Trees')\n",
    "    plt.ylabel('Validation Accuracy')\n",
    "    plt.plot(new_df['param_n_estimators'], new_df['mean_test_score'], '-o')\n",
    "    plt.show()"
   ]
  },
  {
   "cell_type": "code",
   "execution_count": 12,
   "id": "recent-textbook",
   "metadata": {},
   "outputs": [
    {
     "data": {
      "image/png": "[encoded data removed]",
      "text/plain": [
       "<Figure size 432x288 with 1 Axes>"
      ]
     },
     "metadata": {
      "needs_background": "light"
     },
     "output_type": "display_data"
    }
   ],
   "source": [
    "numTrees('rf_cv_results.csv')"
   ]
  },
  {
   "cell_type": "code",
   "execution_count": null,
   "id": "acute-payroll",
   "metadata": {},
   "outputs": [],
   "source": []
  }
 ],
 "metadata": {
  "kernelspec": {
   "display_name": "Python 3",
   "language": "python",
   "name": "python3"
  },
  "language_info": {
   "codemirror_mode": {
    "name": "ipython",
    "version": 3
   },
   "file_extension": ".py",
   "mimetype": "text/x-python",
   "name": "python",
   "nbconvert_exporter": "python",
   "pygments_lexer": "ipython3",
   "version": "3.7.9"
  }
 },
 "nbformat": 4,
 "nbformat_minor": 5
}
