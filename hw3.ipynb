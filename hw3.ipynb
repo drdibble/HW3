{
 "cells": [
  {
   "cell_type": "code",
   "execution_count": 1,
   "id": "advised-storm",
   "metadata": {},
   "outputs": [],
   "source": [
    "# Package imports\n",
    "import pandas as pd\n",
    "import numpy as np\n",
    "import matplotlib.pyplot as plt\n",
    "import os\n",
    "import glob\n",
    "from sklearn import preprocessing\n",
    "from sklearn.svm import SVC\n",
    "from sklearn.model_selection import train_test_split, GridSearchCV\n",
    "from sklearn.metrics import plot_confusion_matrix, f1_score, accuracy_score"
   ]
  },
  {
   "cell_type": "code",
   "execution_count": 2,
   "id": "ruled-drawing",
   "metadata": {},
   "outputs": [],
   "source": [
    "def read_data():\n",
    "    df = pd.DataFrame()\n",
    "    dirs = os.listdir('data')\n",
    "    for folder in dirs:\n",
    "        if folder != '.DS_Store':\n",
    "            filenames = glob.glob(os.path.join('data', folder, '*/*.txt'), recursive = True)\n",
    "            for filename in filenames:\n",
    "                if ('MANIFEST.txt' not in filename) and ('annotations.txt' not in filename):\n",
    "                    temp_df = pd.read_csv(filename, '\\t')\n",
    "                    row_dict = {'cancer': folder}\n",
    "                    for index, row in temp_df.iterrows():\n",
    "                        row_dict[row['miRNA_ID']] = row['reads_per_million_miRNA_mapped']\n",
    "\n",
    "                    df = df.append(row_dict, ignore_index = True)\n",
    "    \n",
    "    le = preprocessing.LabelEncoder()\n",
    "    df['cancer_code'] = le.fit_transform(df['cancer'])\n",
    "    \n",
    "    df.to_csv('data_cleaned.csv', index=False)\n"
   ]
  },
  {
   "cell_type": "code",
   "execution_count": 3,
   "id": "joint-iraqi",
   "metadata": {},
   "outputs": [],
   "source": [
    "def load_data():\n",
    "    return pd.read_csv('data_cleaned.csv')"
   ]
  },
  {
   "cell_type": "code",
   "execution_count": 4,
   "id": "equipped-pleasure",
   "metadata": {},
   "outputs": [],
   "source": [
    "def random_forest():\n",
    "    pass"
   ]
  },
  {
   "cell_type": "code",
   "execution_count": 5,
   "id": "quiet-carol",
   "metadata": {},
   "outputs": [],
   "source": [
    "'''\n",
    "Performs 5-fold CV over a range of hyperparameters and returns the best-performing SVM model\n",
    "'''\n",
    "def svm(X_train, y_train):\n",
    "    params = {'kernel':('linear', 'poly', 'rbf'), 'C':[0.01, 0.1, 1], 'degree': [2,3], 'gamma': [0.1, 0.01, 0.001, 0.0001], 'cache_size': [1000]}\n",
    "    print('Grid Search on SVM...')\n",
    "    svc = SVC()\n",
    "    clf = GridSearchCV(svc, params)\n",
    "    clf.fit(X_train, y_train)\n",
    "    \n",
    "    results_df = pd.DataFrame(clf.cv_results_)\n",
    "    results_df.to_csv('svm_cv_results.csv')\n",
    "    \n",
    "    print('Best SVM Params (score %f):' % clf.best_score_)\n",
    "    print(clf.best_params_)\n",
    "    print()\n",
    "    \n",
    "    return clf.best_estimator_"
   ]
  },
  {
   "cell_type": "code",
   "execution_count": 6,
   "id": "inclusive-algebra",
   "metadata": {},
   "outputs": [],
   "source": [
    "'''\n",
    "Calculates accuracy, f1 score, and a confusion matrix for the given model and (scaled) evaluation data.\n",
    "Params:\n",
    "    model: the model to be evaluated\n",
    "    X_eval: feature-scaled evaluation set\n",
    "    y_eval: evaluation labels\n",
    "    name: string of the model name (used for graph titles)\n",
    "'''\n",
    "def calc_stats(model, X_eval, y_eval, name):\n",
    "    print('Evaluation of %s Model:' % name)\n",
    "    #results\n",
    "    preds = model.predict(X_eval)\n",
    "    f_score = f1_score(y_eval, preds, average='micro')\n",
    "    acc_score = accuracy_score(y_eval, preds)\n",
    "    print('%s: F1 = %f, accuracy = %f' % (name, f_score, acc_score))\n",
    "    \n",
    "    #confusion matrix\n",
    "    plot_confusion_matrix(model, X_eval, y_eval)\n",
    "    plt.title('Confusion Matrix for {} Model'.format(name))\n",
    "    plt.savefig('imgs/{}_confusion.png'.format(name))\n",
    "    plt.show()\n",
    "    \n",
    "    print()"
   ]
  },
  {
   "cell_type": "code",
   "execution_count": 7,
   "id": "scheduled-moral",
   "metadata": {},
   "outputs": [],
   "source": [
    "def main():\n",
    "    df = load_data()\n",
    "    \n",
    "    #split into train, test, and evaluation sets\n",
    "    X = df.drop(columns=['cancer', 'cancer_code'])\n",
    "    y = df['cancer_code']\n",
    "    X_train, X_eval, y_train, y_eval = train_test_split(X, y, test_size=0.2, random_state=2, stratify=y)\n",
    "    #X_train, X_test, y_train, y_test = train_test_split(X_train, y_train, test_size=0.25, random_state=2, stratify=y_train)\n",
    "    \n",
    "    #scale data\n",
    "    min_max_scalar = preprocessing.MinMaxScaler()\n",
    "    X_train_scaled = min_max_scalar.fit_transform(X_train)\n",
    "    #min_max_scalar = preprocessing.MinMaxScaler()\n",
    "    #X_test_scaled = min_max_scalar.fit_transform(X_test)\n",
    "    min_max_scalar = preprocessing.MinMaxScaler()\n",
    "    X_eval_scaled = min_max_scalar.fit_transform(X_eval)\n",
    "    \n",
    "    svm_model = svm(X_train_scaled, y_train)\n",
    "    \n",
    "    calc_stats(svm_model, X_eval_scaled, y_eval, 'SVM')"
   ]
  },
  {
   "cell_type": "code",
   "execution_count": 8,
   "id": "unsigned-construction",
   "metadata": {},
   "outputs": [
    {
     "name": "stdout",
     "output_type": "stream",
     "text": [
      "Grid Search on SVM...\n",
      "Best SVM Params (score 0.960703):\n",
      "{'C': 0.1, 'cache_size': 1000, 'degree': 2, 'gamma': 0.1, 'kernel': 'linear'}\n",
      "\n",
      "Evaluation of SVM Model:\n",
      "SVM: F1 = 0.974093, accuracy = 0.974093\n"
     ]
    },
    {
     "data": {
      "image/png": "[encoded data removed]",
      "text/plain": [
       "<Figure size 432x288 with 2 Axes>"
      ]
     },
     "metadata": {
      "needs_background": "light"
     },
     "output_type": "display_data"
    },
    {
     "name": "stdout",
     "output_type": "stream",
     "text": [
      "\n"
     ]
    }
   ],
   "source": [
    "main()"
   ]
  }
 ],
 "metadata": {
  "kernelspec": {
   "display_name": "Python 3",
   "language": "python",
   "name": "python3"
  },
  "language_info": {
   "codemirror_mode": {
    "name": "ipython",
    "version": 3
   },
   "file_extension": ".py",
   "mimetype": "text/x-python",
   "name": "python",
   "nbconvert_exporter": "python",
   "pygments_lexer": "ipython3",
   "version": "3.7.9"
  }
 },
 "nbformat": 4,
 "nbformat_minor": 5
}
